{
 "cells": [
  {
   "cell_type": "code",
   "execution_count": 0,
   "metadata": {
    "application/vnd.databricks.v1+cell": {
     "cellMetadata": {
      "byteLimit": 2048000,
      "rowLimit": 10000
     },
     "inputWidgets": {},
     "nuid": "51bc798c-e22a-473b-b55f-d733de6256a4",
     "showTitle": false,
     "tableResultSettingsMap": {},
     "title": ""
    }
   },
   "outputs": [],
   "source": [
    "dbutils.widgets.text(\"input\",\"User\",\"Enter your name\")\n",
    "name=dbutils.widgets.get(\"input\")\n",
    "print(f\"Hello {name}\")\n",
    "dbutils.notebook.exit(\"Hello\")\n"
   ]
  }
 ],
 "metadata": {
  "application/vnd.databricks.v1+notebook": {
   "computePreferences": null,
   "dashboards": [],
   "environmentMetadata": {
    "base_environment": "",
    "environment_version": "4"
   },
   "inputWidgetPreferences": null,
   "language": "python",
   "notebookMetadata": {
    "pythonIndentUnit": 4
   },
   "notebookName": "Child 2025-10-16 15:23:37",
   "widgets": {
    "input": {
     "currentValue": "kevin",
     "nuid": "3bf63784-5e0a-4442-a906-0881110962fe",
     "typedWidgetInfo": {
      "autoCreated": false,
      "defaultValue": "User",
      "label": "Enter your name",
      "name": "input",
      "options": {
       "widgetDisplayType": "Text",
       "validationRegex": null
      },
      "parameterDataType": "String"
     },
     "widgetInfo": {
      "widgetType": "text",
      "defaultValue": "User",
      "label": "Enter your name",
      "name": "input",
      "options": {
       "widgetType": "text",
       "autoCreated": null,
       "validationRegex": null
      }
     }
    }
   }
  },
  "language_info": {
   "name": "python"
  }
 },
 "nbformat": 4,
 "nbformat_minor": 0
}
