{
 "cells": [
  {
   "cell_type": "code",
   "execution_count": 0,
   "metadata": {
    "application/vnd.databricks.v1+cell": {
     "cellMetadata": {
      "byteLimit": 2048000,
      "rowLimit": 10000
     },
     "inputWidgets": {},
     "nuid": "0171f46a-fec1-4da9-a322-0a8faad2ad56",
     "showTitle": false,
     "tableResultSettingsMap": {},
     "title": ""
    }
   },
   "outputs": [],
   "source": [
    "data = [\n",
    "    (1, \"South\", \"Mobile\", 500, \"2023-10-01\"),\n",
    "    (2, \"South\", \"Laptop\", 800, \"2023-10-02\"),\n",
    "    (3, \"North\", \"Mobile\", None, \"2023-10-03\"),  \n",
    "    (4, \"East\", \"Tablet\", 650, \"2023-10-04\"),\n",
    "    (4, \"East\", \"Tablet\", 650, \"2023-10-04\"),     \n",
    "    (5, None, \"Mobile\", 550, \"2023-10-05\")        \n",
    "]\n",
    "columns = [\"id\", \"region\", \"product\", \"amount\", \"date\"]\n",
    "bronze_df=spark.createDataFrame(data, columns).repartition(1)\n",
    "display(bronze_df)\n"
   ]
  },
  {
   "cell_type": "code",
   "execution_count": 0,
   "metadata": {
    "application/vnd.databricks.v1+cell": {
     "cellMetadata": {
      "byteLimit": 2048000,
      "rowLimit": 10000
     },
     "inputWidgets": {},
     "nuid": "e5487d56-effc-4630-a3e5-4fa4dd51b162",
     "showTitle": false,
     "tableResultSettingsMap": {},
     "title": ""
    }
   },
   "outputs": [],
   "source": [
    "bronze_path=\"/Volumes/bronze_databricks/default/bronze_practise\"\n",
    "bronze_df.write.mode(\"overwrite\").option(\"header\",True).csv(bronze_path)\n",
    "display(bronze_df)"
   ]
  },
  {
   "cell_type": "code",
   "execution_count": 0,
   "metadata": {
    "application/vnd.databricks.v1+cell": {
     "cellMetadata": {
      "byteLimit": 2048000,
      "rowLimit": 10000
     },
     "inputWidgets": {},
     "nuid": "15e29f54-963f-47af-9c94-182b2c1fd797",
     "showTitle": false,
     "tableResultSettingsMap": {},
     "title": ""
    }
   },
   "outputs": [],
   "source": [
    "df_read=spark.read.csv(bronze_path,header=True)\n",
    "display(df_read)\n",
    "\n"
   ]
  },
  {
   "cell_type": "code",
   "execution_count": 0,
   "metadata": {
    "application/vnd.databricks.v1+cell": {
     "cellMetadata": {
      "byteLimit": 2048000,
      "rowLimit": 10000
     },
     "inputWidgets": {},
     "nuid": "24b99e47-35a9-4f20-b187-5f32674aa12f",
     "showTitle": false,
     "tableResultSettingsMap": {},
     "title": ""
    }
   },
   "outputs": [],
   "source": [
    "silver_df=df_read.dropDuplicates().fillna({'region':\"unknown\",'amount':0})\n",
    "display(silver_df)"
   ]
  },
  {
   "cell_type": "code",
   "execution_count": 0,
   "metadata": {
    "application/vnd.databricks.v1+cell": {
     "cellMetadata": {
      "byteLimit": 2048000,
      "rowLimit": 10000
     },
     "inputWidgets": {},
     "nuid": "c075db2f-85c5-448e-ac2c-863acea1b203",
     "showTitle": false,
     "tableResultSettingsMap": {},
     "title": ""
    }
   },
   "outputs": [],
   "source": [
    "silver_path=\"/Volumes/bronze_databricks/default/silver_practise/silver_path\"\n",
    "r=silver_df.write.mode(\"overwrite\").format(\"delta\").save(silver_path)\n",
    "display(r)\n",
    "df_read=spark.read.format(\"delta\").load(silver_path)\n",
    "display(df_read)\n"
   ]
  },
  {
   "cell_type": "code",
   "execution_count": 0,
   "metadata": {
    "application/vnd.databricks.v1+cell": {
     "cellMetadata": {
      "byteLimit": 2048000,
      "rowLimit": 10000
     },
     "inputWidgets": {},
     "nuid": "b6883cde-7fa7-4fe3-8cee-3472835691fd",
     "showTitle": false,
     "tableResultSettingsMap": {},
     "title": ""
    }
   },
   "outputs": [],
   "source": [
    "from pyspark.sql.functions import sum,avg\n",
    "gold_df=silver_df.groupBy(\"region\").agg(sum(\"amount\").alias(\"total_sales\"),avg(\"amount\").alias(\"avg_sales\"))\n",
    "display(gold_df)"
   ]
  },
  {
   "cell_type": "code",
   "execution_count": 0,
   "metadata": {
    "application/vnd.databricks.v1+cell": {
     "cellMetadata": {
      "byteLimit": 2048000,
      "rowLimit": 10000
     },
     "inputWidgets": {},
     "nuid": "353428e6-40ef-430d-bb9b-c0e365a3a06a",
     "showTitle": false,
     "tableResultSettingsMap": {},
     "title": ""
    }
   },
   "outputs": [],
   "source": [
    "\n",
    "f=gold_df.write.mode(\"overwrite\").format(\"delta\").save(\"/Volumes/bronze_databricks/default/gold_practise/gold_pathss\")\n",
    "gold_read=spark.read.format(\"delta\").load(\"/Volumes/bronze_databricks/default/gold_practise/gold_pathss\")\n",
    "display(gold_read)"
   ]
  },
  {
   "cell_type": "code",
   "execution_count": 0,
   "metadata": {
    "application/vnd.databricks.v1+cell": {
     "cellMetadata": {
      "byteLimit": 2048000,
      "rowLimit": 10000
     },
     "inputWidgets": {},
     "nuid": "d1fda491-7e88-4ec4-bbe2-378c93bdbd45",
     "showTitle": false,
     "tableResultSettingsMap": {},
     "title": ""
    }
   },
   "outputs": [],
   "source": [
    "r=gold_df.write.mode(\"overwrite\").format(\"csv\").save(\"/Volumes/bronze_databricks/default/gold_practise\")\n",
    "display(r)\n",
    "gold_reads=spark.read.csv(\"/Volumes/bronze_databricks/default/gold_practise\",header=True)\n",
    "display(gold_reads)"
   ]
  }
 ],
 "metadata": {
  "application/vnd.databricks.v1+notebook": {
   "computePreferences": null,
   "dashboards": [],
   "environmentMetadata": {
    "base_environment": "",
    "environment_version": "4"
   },
   "inputWidgetPreferences": null,
   "language": "python",
   "notebookMetadata": {
    "pythonIndentUnit": 4
   },
   "notebookName": "Medellian architecture",
   "widgets": {}
  },
  "language_info": {
   "name": "python"
  }
 },
 "nbformat": 4,
 "nbformat_minor": 0
}
